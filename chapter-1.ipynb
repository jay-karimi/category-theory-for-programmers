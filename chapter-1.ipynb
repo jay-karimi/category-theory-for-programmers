{
 "cells": [
  {
   "cell_type": "markdown",
   "id": "cutting-planet",
   "metadata": {},
   "source": [
    "# Chapter 1\n",
    "\n",
    "1. Implement, as best as you can, the identity function in your favorite\n",
    "language (or the second favorite, if your favorite language\n",
    "happens to be Haskell)."
   ]
  },
  {
   "cell_type": "code",
   "execution_count": 1,
   "id": "critical-custom",
   "metadata": {},
   "outputs": [],
   "source": [
    "from typing import Any\n",
    "\n",
    "def identity(x: Any) -> Any:\n",
    "    return x"
   ]
  },
  {
   "cell_type": "markdown",
   "id": "consecutive-power",
   "metadata": {},
   "source": [
    "2. Implement the composition function in your favorite language. It\n",
    "takes two functions as arguments and returns a function that is\n",
    "their composition."
   ]
  },
  {
   "cell_type": "code",
   "execution_count": 6,
   "id": "vertical-bullet",
   "metadata": {},
   "outputs": [],
   "source": [
    "from typing import Callable\n",
    "\n",
    "def compose(f: Callable, g: Callable) -> Callable:\n",
    "    return lambda x: f(g(x))"
   ]
  },
  {
   "cell_type": "markdown",
   "id": "critical-reporter",
   "metadata": {},
   "source": [
    "3. Write a program that tries to test that your composition function\n",
    "respects identity."
   ]
  },
  {
   "cell_type": "code",
   "execution_count": 8,
   "id": "endangered-convert",
   "metadata": {},
   "outputs": [],
   "source": [
    "assert compose(f=lambda x: x / 3, g=identity)(6) == 2\n",
    "assert compose(g=lambda x: x / 3, f=identity)(6) == 2"
   ]
  },
  {
   "cell_type": "markdown",
   "id": "acceptable-population",
   "metadata": {},
   "source": [
    "4. Is the world-wide web a category in any sense? Are links morphisms?"
   ]
  },
  {
   "cell_type": "markdown",
   "id": "employed-airplane",
   "metadata": {},
   "source": [
    "If we assume that links are morphisms, then the world-wide web is not a category because links do not necessarily compose i.e. there can exist a link from website A $\\rightarrow$ B and a link from website B $\\rightarrow$ C without there necessarily being a link from website A $\\rightarrow$ C."
   ]
  },
  {
   "cell_type": "markdown",
   "id": "adjustable-andrews",
   "metadata": {},
   "source": [
    "5. Is Facebook a category, with people as objects and friendships as\n",
    "morphisms?"
   ]
  },
  {
   "cell_type": "markdown",
   "id": "controversial-shareware",
   "metadata": {},
   "source": [
    "Same arguement as question 4."
   ]
  },
  {
   "cell_type": "markdown",
   "id": "immune-senate",
   "metadata": {},
   "source": [
    "6. When is a directed graph a category?"
   ]
  },
  {
   "cell_type": "markdown",
   "id": "appreciated-seven",
   "metadata": {},
   "source": [
    "When each node has self edges & composition is upheld i.e. for every node pair for which there is a path, there also is an edge connecting the nodes."
   ]
  },
  {
   "cell_type": "code",
   "execution_count": null,
   "id": "technological-techno",
   "metadata": {},
   "outputs": [],
   "source": []
  }
 ],
 "metadata": {
  "kernelspec": {
   "display_name": "Python 3",
   "language": "python",
   "name": "python3"
  },
  "language_info": {
   "codemirror_mode": {
    "name": "ipython",
    "version": 3
   },
   "file_extension": ".py",
   "mimetype": "text/x-python",
   "name": "python",
   "nbconvert_exporter": "python",
   "pygments_lexer": "ipython3",
   "version": "3.8.0"
  }
 },
 "nbformat": 4,
 "nbformat_minor": 5
}
